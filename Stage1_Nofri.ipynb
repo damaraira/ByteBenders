# Homework - Business Understanding
## Byte Benders - TIM 7

Alvin Arianda

Cut Sari Natasya

Dwi Damara Kartikasari

Limatan Luviar

Muhammad Hadi Dermawan

Nofri Rhamawati

Sulami Hauzana Assyifa
import numpy as np
import pandas as pd
import seaborn as sns
import matplotlib.pyplot as plt
### 1. Descriptive Statistics (15 poin)
Gunakan function info dan describe pada dataset final project kalian. Tuliskan hasil observasinya, seperti: 

A. Apakah ada kolom dengan tipe data kurang sesuai, atau nama kolom dan isinya kurang sesuai?

B. Apakah ada kolom yang memiliki nilai kosong? Jika ada, apa saja?

C. Apakah ada kolom yang memiliki nilai summary agak aneh? (min/mean/median/max/unique/top/freq)

Untuk masing-masing jenis observasi, tuliskan juga jika tidak ada masalah, misal untuk A: “Semua tipe data sudah sesuai”
df = pd.read_csv('Travel.csv')
info_result = df.info()
data_types = df.dtypes
print("A. Observasi mengenai tipe data dan nama kolom:")
print(info_result)

print("\nTipe data untuk setiap kolom:")
print(data_types)
# Mencari kolom yang memiliki nilai kosong
missing_values = df.isnull().sum()

# Menampilkan kolom-kolom dengan nilai kosong
columns_with_missing_values = missing_values[missing_values > 0]

# Menampilkan hasil observasi
print("B. Observasi mengenai nilai kosong pada setiap kolom:")
print(columns_with_missing_values)
# Melihat ringkasan statistik untuk semua kolom
summary_statistics = df.describe(include='all')

# Menampilkan hasil observasi
print("C. Observasi mengenai summary yang agak aneh:")
print(summary_statistics)




### 2. Univariate Analysis (25 poin)

Gunakan visualisasi untuk melihat distribusi masing-masing kolom (feature maupun
target). Tuliskan hasil observasinya, misalnya jika ada suatu kolom yang distribusinya
menarik (misal skewed, bimodal, ada outlier, ada nilai yang mendominasi, kategorinya
terlalu banyak, dsb). Jelaskan juga apa yang harus di-follow up saat data pre-processing.
# Memilih kolom numerik untuk visualisasi distribusi
numeric_columns = df.select_dtypes(include=['int64', 'float64']).columns

# Membuat histogram untuk masing-masing kolom numerik
for col in numeric_columns:
    plt.figure(figsize=(8, 5))
    sns.histplot(df[col], kde=True)
    plt.title(f'Distribusi {col}')
    plt.show()
# Membuat boxplot untuk masing-masing kolom numerik
for col in numeric_columns:
    plt.figure(figsize=(8, 5))
    sns.boxplot(x=df[col])
    plt.title(f'Boxplot {col}')
    plt.show()

# Memilih kolom kategorikal untuk visualisasi distribusi
categorical_columns = df.select_dtypes(include=['object']).columns

# Membuat countplot untuk masing-masing kolom kategorikal
for col in categorical_columns:
    plt.figure(figsize=(8, 5))
    sns.countplot(x=df[col])
    plt.title(f'Distribusi {col}')
    plt.show()
# Membuat pie chart untuk masing-masing kolom kategorikal
for col in categorical_columns:
    plt.figure(figsize=(8, 8))
    df[col].value_counts().plot.pie(autopct='%1.1f%%', startangle=90)
    plt.title(f'Proporsi {col}')
    plt.show()


3.
# Menghitung korelasi antar variabel numerik
correlation_matrix = df.corr()

# Membuat heatmap korelasi
plt.figure(figsize=(12, 8))
sns.heatmap(correlation_matrix, annot=True, cmap='coolwarm', fmt=".2f")
plt.title('Correlation Heatmap')
plt.show()

4.
# Membuat category plots untuk variabel kategorikal terhadap variabel target
categorical_columns = df.select_dtypes(include=['object']).columns

for col in categorical_columns:
    plt.figure(figsize=(10, 6))
    sns.countplot(x=col, hue='ProdTaken', data=df)
    plt.title(f'{col} vs ProdTaken')
    plt.show()

# Visualisasi distribusi package yang dibeli
plt.figure(figsize=(10, 6))
sns.countplot(x='ProductPitched', hue='ProdTaken', data=df)
plt.title('Distribusi Package dan Konversi')
plt.show()

# Visualisasi kepuasan pelanggan terhadap konversi
plt.figure(figsize=(10, 6))
sns.countplot(x='PitchSatisfactionScore', hue='ProdTaken', data=df)
plt.title('Kepuasan Pelanggan dan Konversi')
plt.show()

# Visualisasi interaksi jenis kontak dengan konversi
plt.figure(figsize=(10, 6))
sns.countplot(x='TypeofContact', hue='ProdTaken', data=df)
plt.title('Jenis Kontak dan Konversi')
plt.show()

